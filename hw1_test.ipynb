{
 "cells": [
  {
   "cell_type": "code",
   "execution_count": 2,
   "metadata": {},
   "outputs": [],
   "source": [
    "import numpy as np\n",
    "import matplotlib.pyplot as plt\n",
    "%matplotlib inline\n",
    "\n",
    "\n",
    "%load_ext autoreload\n",
    "%autoreload 2"
   ]
  },
  {
   "cell_type": "code",
   "execution_count": 17,
   "metadata": {},
   "outputs": [
    {
     "name": "stdout",
     "output_type": "stream",
     "text": [
      "1\n",
      "1\n"
     ]
    }
   ],
   "source": [
    "np.random.seed(10)\n",
    "print(np.random.randint(2))\n",
    "print(np.random.randint(2))"
   ]
  },
  {
   "cell_type": "code",
   "execution_count": 5,
   "metadata": {},
   "outputs": [
    {
     "name": "stdout",
     "output_type": "stream",
     "text": [
      "[[2 0 2 1 1]\n",
      " [1 3 1 0 3]\n",
      " [0 0 3 2 0]\n",
      " [3 3 2 1 1]\n",
      " [3 1 3 1 0]]\n",
      "0\n",
      "2\n"
     ]
    }
   ],
   "source": [
    "n = 5\n",
    "grid = np.random.choice([0, 1, 2, 3], size=(n, n)) \n",
    "print(grid)\n",
    "\n",
    "try:\n",
    "    print(grid[0][1])\n",
    "except IndexError:\n",
    "    pass\n",
    "\n",
    "try:\n",
    "    print(grid[1][6])\n",
    "except IndexError:\n",
    "    pass\n",
    "\n",
    "try:\n",
    "    print(grid[3][2])\n",
    "except IndexError:\n",
    "    pass"
   ]
  }
 ],
 "metadata": {
  "kernelspec": {
   "display_name": "phy329_assignments",
   "language": "python",
   "name": "python3"
  },
  "language_info": {
   "codemirror_mode": {
    "name": "ipython",
    "version": 3
   },
   "file_extension": ".py",
   "mimetype": "text/x-python",
   "name": "python",
   "nbconvert_exporter": "python",
   "pygments_lexer": "ipython3",
   "version": "3.12.4"
  }
 },
 "nbformat": 4,
 "nbformat_minor": 2
}
